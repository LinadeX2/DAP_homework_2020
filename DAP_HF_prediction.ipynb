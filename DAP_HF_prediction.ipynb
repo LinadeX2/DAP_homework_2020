{
 "cells": [
  {
   "cell_type": "code",
   "execution_count": 7,
   "metadata": {},
   "outputs": [],
   "source": [
    "import pandas as pd\n",
    "import numpy as np\n",
    "import matplotlib.pyplot as plt\n",
    "\n",
    "from sklearn.ensemble import RandomForestClassifier\n",
    "from sklearn.ensemble import GradientBoostingClassifier\n",
    "from sklearn.metrics import roc_auc_score\n",
    "import xgboost as xgb"
   ]
  },
  {
   "cell_type": "markdown",
   "metadata": {},
   "source": [
    "# Evaluation functions"
   ]
  },
  {
   "cell_type": "code",
   "execution_count": 8,
   "metadata": {},
   "outputs": [],
   "source": [
    "#evaluation\n",
    "def myxval(model,train_df,bemeno_valtozok,fold_num=10):\n",
    "    train_df['xval']=train_df['ID']%fold_num\n",
    "    auc_list=[]\n",
    "    for i in range(fold_num):\n",
    "        mini_train = train_df[train_df['xval']!=i].copy()\n",
    "        mini_test = train_df[train_df['xval']==i].copy()\n",
    "        _=model.fit(mini_train[bemeno_valtozok],mini_train['TARGET'])\n",
    "        mini_test['p1'] = model.predict_proba(mini_test[bemeno_valtozok])[:,1]\n",
    "        auc = roc_auc_score(mini_test['TARGET'],mini_test['p1'])\n",
    "        auc_list.append(auc)\n",
    "    return np.mean(auc_list)"
   ]
  },
  {
   "cell_type": "code",
   "execution_count": 10,
   "metadata": {},
   "outputs": [
    {
     "data": {
      "text/plain": [
       "(50000, 79)"
      ]
     },
     "execution_count": 10,
     "metadata": {},
     "output_type": "execute_result"
    }
   ],
   "source": [
    "alldf=pd.read_csv('../data/selected_df.csv')\n",
    "alldf.shape"
   ]
  },
  {
   "cell_type": "code",
   "execution_count": 11,
   "metadata": {},
   "outputs": [
    {
     "data": {
      "text/plain": [
       "76"
      ]
     },
     "execution_count": 11,
     "metadata": {},
     "output_type": "execute_result"
    }
   ],
   "source": [
    "target='TARGET'\n",
    "in_attr=list(alldf.columns)[3:]\n",
    "len(in_attr)"
   ]
  },
  {
   "cell_type": "code",
   "execution_count": 12,
   "metadata": {},
   "outputs": [],
   "source": [
    "train_df=alldf[alldf['train_or_test']==\"train\"].copy()\n",
    "test_df =alldf[alldf['train_or_test']==\"test\"].copy()"
   ]
  },
  {
   "cell_type": "code",
   "execution_count": null,
   "metadata": {},
   "outputs": [],
   "source": [
    "# Remark\n",
    "# The paramers of different models were optimised by trying out the different possibilities one-by-one. \n",
    "# I didn't put the code here for sake of acceptable running time for the notebook. \n"
   ]
  },
  {
   "cell_type": "code",
   "execution_count": 13,
   "metadata": {},
   "outputs": [
    {
     "name": "stdout",
     "output_type": "stream",
     "text": [
      "0.7517778376865629\n"
     ]
    }
   ],
   "source": [
    "xgb_model = xgb.XGBClassifier(colsample_bytree=1,\n",
    "                               gamma=5, learning_rate=0.1,\n",
    "                                reg_alpha=0.05, reg_lambda=0.3,\n",
    "                               max_depth=50, min_child_weight=5,\n",
    "                               n_estimators=100,\n",
    "                               seed=42,\n",
    "                               silent= 1,\n",
    "                               subsample=0.8,\n",
    "                               random_state=42)\n",
    "print(myxval(xgb_model,train_df,in_attr,10))\n",
    "feature_importancesXGB = pd.DataFrame({'imp':xgb_model.feature_importances_,'att':in_attr}).sort_values('imp', ascending=False)['att'].to_list()\n",
    "test_df['predXGB'] = xgb_model.predict_proba(test_df[in_attr])[:,1]\n",
    "#print(feature_importancesXGB)"
   ]
  },
  {
   "cell_type": "code",
   "execution_count": 14,
   "metadata": {},
   "outputs": [
    {
     "name": "stdout",
     "output_type": "stream",
     "text": [
      "0.7491957662836348\n"
     ]
    }
   ],
   "source": [
    "RFmodel = RandomForestClassifier(random_state=42,n_estimators=100,max_depth=20) \n",
    "print(myxval(RFmodel,train_df,in_attr,10))\n",
    "feature_importancesRF = pd.DataFrame({'imp':RFmodel.feature_importances_,'att':in_attr}).sort_values('imp', ascending=False)['att'].to_list()\n",
    "test_df['predRF'] = RFmodel.predict_proba(test_df[in_attr])[:,1]\n",
    "#print(feature_importancesRF)"
   ]
  },
  {
   "cell_type": "code",
   "execution_count": 16,
   "metadata": {},
   "outputs": [
    {
     "name": "stdout",
     "output_type": "stream",
     "text": [
      "0.744038702891068\n"
     ]
    }
   ],
   "source": [
    "GBmodel = GradientBoostingClassifier(random_state=42,n_estimators=100,max_depth=20,learning_rate=0.3 )\n",
    "print(myxval(GBmodel,train_df,in_attr,10))\n",
    "feature_importancesGB = pd.DataFrame({'imp':GBmodel.feature_importances_,'att':in_attr}).sort_values('imp', ascending=False)['att'].to_list()\n",
    "test_df['predGB'] = GBmodel.predict_proba(test_df[in_attr])[:,1]\n",
    "#print(feature_importancesGB)"
   ]
  },
  {
   "cell_type": "markdown",
   "metadata": {},
   "source": [
    "## Submission"
   ]
  },
  {
   "cell_type": "code",
   "execution_count": 20,
   "metadata": {},
   "outputs": [],
   "source": [
    "test_df['p1'] = test_df['predXGB']*test_df['predRF'] \n",
    "#test_df['p2'] = (test_df['predXGB']+test_df['predRF'])/2 #not selected for final scoring\n",
    "test_df['p3'] = test_df['predXGB']*test_df['predRF']*test_df['predGB'] \n",
    "test_df['p4'] = (test_df['predXGB']+test_df['predRF']+test_df['predGB'])/3 "
   ]
  },
  {
   "cell_type": "code",
   "execution_count": 21,
   "metadata": {},
   "outputs": [],
   "source": [
    "#submission\n",
    "predictions = ['p1','p2','p3','p4']\n",
    "submissions = ['Sub1.csv', 'Sub2.csv','Sub3.csv','Sub4.csv']\n",
    "for i in range(len(predictions)):\n",
    "    submission_df = test_df[['ID',predictions[i]]].copy()\n",
    "    submission_df.columns=['Id', 'Predicted']\n",
    "    submission_df.to_csv(submissions[i],index=False)"
   ]
  }
 ],
 "metadata": {
  "kernelspec": {
   "display_name": "Python 3",
   "language": "python",
   "name": "python3"
  },
  "language_info": {
   "codemirror_mode": {
    "name": "ipython",
    "version": 3
   },
   "file_extension": ".py",
   "mimetype": "text/x-python",
   "name": "python",
   "nbconvert_exporter": "python",
   "pygments_lexer": "ipython3",
   "version": "3.7.2"
  }
 },
 "nbformat": 4,
 "nbformat_minor": 4
}
