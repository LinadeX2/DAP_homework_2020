{
 "cells": [
  {
   "cell_type": "code",
   "execution_count": 1,
   "metadata": {},
   "outputs": [],
   "source": [
    "import numpy as np\n",
    "import pandas as pd\n",
    "import matplotlib.pyplot as plt"
   ]
  },
  {
   "cell_type": "code",
   "execution_count": 2,
   "metadata": {},
   "outputs": [
    {
     "name": "stderr",
     "output_type": "stream",
     "text": [
      "/anaconda3/lib/python3.7/site-packages/IPython/core/interactiveshell.py:3051: DtypeWarning: Columns (44,45) have mixed types. Specify dtype option on import or set low_memory=False.\n",
      "  interactivity=interactivity, compiler=compiler, result=result)\n"
     ]
    },
    {
     "data": {
      "text/plain": [
       "(50000, 67)"
      ]
     },
     "execution_count": 2,
     "metadata": {},
     "output_type": "execute_result"
    }
   ],
   "source": [
    "tr = pd.read_csv(\"../data/public_train.csv\")\n",
    "te = pd.read_csv(\"../data/public_test.csv\")\n",
    "tr['train_or_test']='train'\n",
    "te['train_or_test']='test'\n",
    "alldf = pd.concat([tr,te], sort=False)\n",
    "alldf = alldf.rename({'PAY_MONTH_0':'PAY_MONTH_1'}, axis='columns')\n",
    "alldf.shape"
   ]
  },
  {
   "cell_type": "markdown",
   "metadata": {},
   "source": [
    "# New attributes"
   ]
  },
  {
   "cell_type": "code",
   "execution_count": 3,
   "metadata": {},
   "outputs": [],
   "source": [
    "agecuts=[0,30,50,200]\n",
    "categories = [0,1,2]\n",
    "alldf['AGE_RANGE'] = pd.cut(alldf['AGE'], agecuts, labels=categories).values.astype(int)"
   ]
  },
  {
   "cell_type": "markdown",
   "metadata": {},
   "source": [
    "# Treat missing data"
   ]
  },
  {
   "cell_type": "code",
   "execution_count": 4,
   "metadata": {},
   "outputs": [],
   "source": [
    "for att in alldf.columns:\n",
    "    if att==\"TARGET\":\n",
    "        pass\n",
    "    elif alldf[att].dtype==object:\n",
    "        alldf[att]=alldf[att].fillna(\"nincs_adat\")\n",
    "    else:\n",
    "        #median of the same age range is used for the missing data\n",
    "        alldf[att]=alldf[att].fillna(alldf.groupby(['AGE_RANGE'])[att].transform(np.nanmedian))"
   ]
  },
  {
   "cell_type": "markdown",
   "metadata": {},
   "source": [
    "# Categorical to numerical"
   ]
  },
  {
   "cell_type": "code",
   "execution_count": 5,
   "metadata": {
    "scrolled": true
   },
   "outputs": [],
   "source": [
    "def cat_to_num(indf,attrToConvert):\n",
    "    df=indf.copy()\n",
    "    for attr in attrToConvert: \n",
    "        df[attr] = df[attr].astype('category').cat.codes\n",
    "    return df\n",
    "\n",
    "#use it\n",
    "attrToConvert = ['BIRTH_STATE','BIRTH_CITY','RES_STATE','RES_CITY','RES_BOROUGH',\n",
    "                'PROF_STATE','PROF_CITY','PROF_BOROUGH','MATE_PROF_CODE']\n",
    "alldf = cat_to_num(alldf,attrToConvert)\n",
    "\n",
    "alldf['RES_PROF_STATE'] = alldf.apply(lambda x: int(x['RES_STATE']==x['PROF_STATE']),axis=1)\n",
    "\n",
    "alldf = alldf.drop(attrToConvert,axis=1)"
   ]
  },
  {
   "cell_type": "code",
   "execution_count": 6,
   "metadata": {},
   "outputs": [],
   "source": [
    "def limitalt_dummy_valtozo(indf,oszlop,limit,drop_last=True):\n",
    "    df=indf.copy()\n",
    "    egyedi_elemszam=df[oszlop].nunique()\n",
    "    if drop_last is True and egyedi_elemszam<=limit:\n",
    "        limit = egyedi_elemszam-1\n",
    "    a=df[oszlop].value_counts()[:limit]\n",
    "    for value in list(a.index):\n",
    "        def f(x):\n",
    "            if x==value:\n",
    "                return 1\n",
    "            else:\n",
    "                return 0\n",
    "        df[oszlop+\"=\"+str(value)]=df[oszlop].apply(f)\n",
    "    return df\n",
    "\n",
    "#use it\n",
    "attrToConvert = ['APP_SUB_TYPE','M_STATUS','RES_TYPE','OCC_TYPE','EDU_LEVEL']\n",
    "\n",
    "for attr in attrToConvert:\n",
    "    alldf = limitalt_dummy_valtozo(alldf,attr,6,True)\n",
    "alldf = alldf.drop(attrToConvert,axis=1)"
   ]
  },
  {
   "cell_type": "code",
   "execution_count": 7,
   "metadata": {},
   "outputs": [],
   "source": [
    "#set binomial attributes\n",
    "alldf['SEX'] = alldf['SEX'].apply(lambda x: 0 if x=='male' else(1 if x=='female' else 0)) \n",
    "alldf['HOME_PHONE_FLAG'] = alldf['HOME_PHONE_FLAG'].apply(lambda x: 0 if x=='no' else(1 if x=='yes' else 0))\n",
    "alldf['C_NAME_GIVEN'] = alldf['C_NAME_GIVEN'].apply(lambda x: 0 if x=='no' else(1 if x=='yes' else 0))       \n",
    "alldf['PROF_PHONE_GIVEN'] = alldf['PROF_PHONE_GIVEN'].apply(lambda x: 0 if x=='No' else(1 if x=='Yes' else 0)) \n",
    "alldf['P_ADDRESS_TYPE'] = alldf['P_ADDRESS_TYPE'].apply(lambda x: 0 if x=='A' else(1 if x=='B' else 0))"
   ]
  },
  {
   "cell_type": "markdown",
   "metadata": {},
   "source": [
    "# Treat outliers"
   ]
  },
  {
   "cell_type": "code",
   "execution_count": 8,
   "metadata": {},
   "outputs": [],
   "source": [
    "alldf['NUMBER_OF_DEPENDANTS'] = alldf['NUMBER_OF_DEPENDANTS'].apply(lambda x: x if x<=10 else 11)\n",
    "alldf['M_IN_THE_JOB'] = alldf['M_IN_THE_JOB'].apply(lambda x: x if x<=1 else 2)"
   ]
  },
  {
   "cell_type": "code",
   "execution_count": 9,
   "metadata": {},
   "outputs": [],
   "source": [
    "def set_max_value(indf, attributes, quanti):\n",
    "    df=indf.copy()\n",
    "    if type(attributes) != list:\n",
    "        attributes = [attributes]\n",
    "    for attr in attributes:\n",
    "        quantile = df[attr].quantile(quanti)\n",
    "        df[attr] = df[attr].apply(lambda x: x if x<=quantile else quantile)\n",
    "    return df\n",
    "\n",
    "#set outliers to the 0.95 quantile\n",
    "attr = ['MONTHS_IN_RES']\n",
    "alldf = set_max_value(alldf, attr, 0.95)"
   ]
  },
  {
   "cell_type": "markdown",
   "metadata": {},
   "source": [
    "# New attributes 2"
   ]
  },
  {
   "cell_type": "code",
   "execution_count": 10,
   "metadata": {},
   "outputs": [],
   "source": [
    "#Log10 of money types\n",
    "attrs = ['P_MONTHLY_INCOME', 'O_INCOMES', 'P_ASSETS_VALUE', 'L_BALANCE', ]\n",
    "for attr in attrs:\n",
    "    alldf[attr+'log10'] = alldf[attr].apply(lambda x: np.log(x) if x>0 else ( -np.log(-x) if x!=0 else 0))\n",
    "    \n",
    "alldf['AGE_RANGE_AVERAGE_INCOMElog10'] = alldf.groupby(['AGE_RANGE'])['P_MONTHLY_INCOMElog10'].transform('mean')\n",
    "alldf['DEV_FROM_AGE_RANGE_AVERAGE_INCOMElog10'] = alldf['AGE_RANGE_AVERAGE_INCOMElog10']-alldf['P_MONTHLY_INCOMElog10']\n",
    "alldf['ALL_INCOME_PER_HEADlog10'] = alldf.apply(lambda x: (np.log10(x['P_MONTHLY_INCOME']+x['O_INCOMES'])/(x['NUMBER_OF_DEPENDANTS']+1)),axis=1)\n",
    "\n",
    "alldf.drop('AGE_RANGE_AVERAGE_INCOMElog10',axis=1,inplace=True)\n",
    "alldf.drop(attrs,axis=1,inplace=True)"
   ]
  },
  {
   "cell_type": "code",
   "execution_count": 11,
   "metadata": {},
   "outputs": [],
   "source": [
    "inattr = ['PAY_MONTH_1','PAY_MONTH_2','PAY_MONTH_3','PAY_MONTH_4','PAY_MONTH_5','PAY_MONTH_6']\n",
    "alldf['PAY_MONTH_AVERAGE'] = alldf[inattr].mean(axis=1)\n",
    "alldf['PAY_MONTH_MIN'] = alldf[inattr].min(axis=1)\n",
    "alldf['PAY_MONTH_MAX'] = alldf[inattr].max(axis=1)\n",
    "alldf['PAY_MONTH_MAX'] = alldf[inattr].sum(axis=1)\n",
    "\n",
    "inattr = ['PAY_AMOUNT_MONTH_1','PAY_AMOUNT_MONTH_2','PAY_AMOUNT_MONTH_3','PAY_AMOUNT_MONTH_4','PAY_AMOUNT_MONTH_5','PAY_AMOUNT_MONTH_6']\n",
    "alldf['PAY_AMOUNT_AVERAGE'] = alldf[inattr].mean(axis=1).apply(lambda x: np.log10(x) if x>0 else ( -np.log(-x) if x!=0 else 0))\n",
    "alldf['PAY_AMOUNT_MIN'] = alldf[inattr].min(axis=1).apply(lambda x: np.log10(x) if x>0 else ( -np.log(-x) if x!=0 else 0))\n",
    "alldf['PAY_AMOUNT_MAX'] = alldf[inattr].max(axis=1).apply(lambda x: np.log10(x) if x>0 else ( -np.log(-x) if x!=0 else 0))\n",
    "alldf['PAY_AMOUNT_STD'] = alldf[inattr].std(axis=1).apply(lambda x: np.log10(x) if x>0 else ( -np.log(-x) if x!=0 else 0))\n",
    "alldf['PAY_AMOUNT_SUM'] = alldf[inattr].sum(axis=1).apply(lambda x: np.log10(x) if x>0 else ( -np.log(-x) if x!=0 else 0)) \n",
    "alldf['MAX_PAY_AMOUNT_MONTH'] = alldf[inattr].idxmax(axis=1).apply(lambda x: int(x[-1]))\n",
    "alldf['MIN_PAY_AMOUNT_MONTH'] = alldf[inattr].idxmin(axis=1).apply(lambda x: int(x[-1]))\n",
    "\n",
    "\n",
    "inattr = ['BILL_AMOUNT_MONTH_1','BILL_AMOUNT_MONTH_2','BILL_AMOUNT_MONTH_3','BILL_AMOUNT_MONTH_4','BILL_AMOUNT_MONTH_5','BILL_AMOUNT_MONTH_6']\n",
    "alldf['BILL_AMOUNT_AVERAGE'] = alldf[inattr].mean(axis=1).apply(lambda x: np.log10(x) if x>0 else ( -np.log(-x) if x!=0 else 0)) \n",
    "alldf['BILL_AMOUNT_MIN'] = alldf[inattr].min(axis=1).apply(lambda x: np.log10(x) if x>0 else ( -np.log(-x) if x!=0 else 0))\n",
    "alldf['BILL_AMOUNT_MAX'] = alldf[inattr].max(axis=1).apply(lambda x: np.log10(x) if x>0 else ( -np.log(-x) if x!=0 else 0))\n",
    "alldf['BILL_AMOUNT_STD'] = alldf[inattr].std(axis=1).apply(lambda x: np.log10(x) if x>0 else ( -np.log(-x) if x!=0 else 0))\n",
    "alldf['BILL_AMOUNT_SUM'] = alldf[inattr].sum(axis=1).apply(lambda x: np.log10(x) if x>0 else ( -np.log(-x) if x!=0 else 0)) \n",
    "alldf['MAX_BILL_AMOUNT_MONTH'] = alldf[inattr].idxmax(axis=1).apply(lambda x: int(x[-1]))\n",
    "alldf['MIN_BILL_AMOUNT_MONTH'] = alldf[inattr].idxmin(axis=1).apply(lambda x: int(x[-1]))\n",
    "\n",
    "alldf['BILL_MINUS_PAY_AVERAGE'] = alldf.apply(lambda x: x['BILL_AMOUNT_AVERAGE']-x['PAY_AMOUNT_AVERAGE'],axis=1)\n",
    "alldf['BILL_MINUS_PAY_MIN'] = alldf.apply(lambda x: x['BILL_AMOUNT_MIN']-x['PAY_AMOUNT_MIN'],axis=1)\n",
    "alldf['BILL_MINUS_PAY_MAX'] = alldf.apply(lambda x: x['BILL_AMOUNT_MAX']-x['PAY_AMOUNT_MAX'],axis=1)\n",
    "alldf['BILL_MINUS_PAY_SUM'] = alldf.apply(lambda x: x['BILL_AMOUNT_SUM']-x['PAY_AMOUNT_SUM'],axis=1)\n"
   ]
  },
  {
   "cell_type": "code",
   "execution_count": 12,
   "metadata": {},
   "outputs": [
    {
     "data": {
      "text/plain": [
       "(50000, 99)"
      ]
     },
     "execution_count": 12,
     "metadata": {},
     "output_type": "execute_result"
    }
   ],
   "source": [
    "alldf.shape"
   ]
  },
  {
   "cell_type": "code",
   "execution_count": 13,
   "metadata": {},
   "outputs": [],
   "source": [
    "alldf.to_csv('../data/prep_df.csv', index=False)"
   ]
  },
  {
   "cell_type": "code",
   "execution_count": null,
   "metadata": {},
   "outputs": [],
   "source": []
  }
 ],
 "metadata": {
  "kernelspec": {
   "display_name": "Python 3",
   "language": "python",
   "name": "python3"
  },
  "language_info": {
   "codemirror_mode": {
    "name": "ipython",
    "version": 3
   },
   "file_extension": ".py",
   "mimetype": "text/x-python",
   "name": "python",
   "nbconvert_exporter": "python",
   "pygments_lexer": "ipython3",
   "version": "3.7.2"
  }
 },
 "nbformat": 4,
 "nbformat_minor": 4
}
